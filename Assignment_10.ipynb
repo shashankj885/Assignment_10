{
 "cells": [
  {
   "cell_type": "markdown",
   "id": "4b17f890",
   "metadata": {},
   "source": [
    "Ans1-While shutil. copy() will copy a single file, shutil. copytree() will copy an entire folder and every folder and file contained in it.\n"
   ]
  },
  {
   "cell_type": "markdown",
   "id": "fa195da0",
   "metadata": {},
   "source": [
    "Ans2- rename()"
   ]
  },
  {
   "cell_type": "markdown",
   "id": "4e28854e",
   "metadata": {},
   "source": [
    "Ans3- The send2trash functions will move a file or folder to the recycle bin, while shutil functions will permanently delete files and folders."
   ]
  },
  {
   "cell_type": "markdown",
   "id": "fdc7eb60",
   "metadata": {},
   "source": [
    "Ans4-with ZipFile(file_name, 'r')"
   ]
  },
  {
   "cell_type": "markdown",
   "id": "7479fc74",
   "metadata": {},
   "source": [
    "Ans5"
   ]
  },
  {
   "cell_type": "code",
   "execution_count": 1,
   "id": "2c0f0543",
   "metadata": {},
   "outputs": [
    {
     "name": "stdout",
     "output_type": "stream",
     "text": [
      "Looking in C:\\Users\\248618\\Dummy for files with extensions of .pdf\n",
      "Coping C:\\Users\\248618\\Dummy\\Resume_Sarita Jaiswal.pdf to C:\\Users\\248618\\newdummy\n"
     ]
    }
   ],
   "source": [
    "import os, shutil\n",
    "\n",
    "def selectiveCopy(folder, extensions, destFolder):\n",
    "\tfolder = os.path.abspath(folder)\n",
    "\tdestFolder = os.path.abspath(destFolder)\n",
    "\tprint('Looking in', folder, 'for files with extensions of', ', '.join(extensions))\n",
    "\tfor foldername, subfolders, filenames in os.walk(folder):\n",
    "\t\tfor filename in filenames:\n",
    "\t\t\tname, extension = os.path.splitext(filename)\n",
    "\t\t\tif extension in extensions:\n",
    "\t\t\t\tfileAbsPath = foldername + os.path.sep + filename\n",
    "\t\t\t\tprint('Coping', fileAbsPath, 'to', destFolder)\n",
    "\t\t\t\tshutil.copy(fileAbsPath, destFolder)\n",
    "\n",
    "extensions = ['.pdf']\n",
    "folder = 'Dummy'\n",
    "destFolder = 'newdummy'\n",
    "selectiveCopy(folder, extensions, destFolder)"
   ]
  },
  {
   "cell_type": "code",
   "execution_count": null,
   "id": "3916a3a9",
   "metadata": {},
   "outputs": [],
   "source": []
  }
 ],
 "metadata": {
  "kernelspec": {
   "display_name": "Python 3 (ipykernel)",
   "language": "python",
   "name": "python3"
  },
  "language_info": {
   "codemirror_mode": {
    "name": "ipython",
    "version": 3
   },
   "file_extension": ".py",
   "mimetype": "text/x-python",
   "name": "python",
   "nbconvert_exporter": "python",
   "pygments_lexer": "ipython3",
   "version": "3.9.12"
  }
 },
 "nbformat": 4,
 "nbformat_minor": 5
}
